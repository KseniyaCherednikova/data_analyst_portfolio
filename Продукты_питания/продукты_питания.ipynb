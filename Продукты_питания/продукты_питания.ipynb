{
 "cells": [
  {
   "cell_type": "markdown",
   "metadata": {},
   "source": [
    "# Проект"
   ]
  },
  {
   "cell_type": "markdown",
   "metadata": {},
   "source": [
    "### Описание проекта\n",
    "Дан стартап, который продаёт продукты питания. \n",
    "Дизайнеры захотели поменять шрифты во всём приложении, а менеджеры испугались, что пользователям будет непривычно. Договорились принять решение по результатам A/A/B-теста. Пользователей разбили на 3 группы: 2 контрольные со старыми шрифтами и одну экспериментальную — с новыми."
   ]
  },
  {
   "cell_type": "markdown",
   "metadata": {},
   "source": [
    "### Цели и задачи исследования:\n",
    "- Разобраться, как ведут себя пользователи мобильного приложенияю. Изучить воронку продаж и узнать, как пользователи доходят до покупки. Сколько пользователей доходит до покупки, а сколько — «застревает» на предыдущих шагах? На каких именно?\n",
    "- Исследовать результаты A/A/B-эксперимента. Выясните, какой шрифт лучше."
   ]
  },
  {
   "cell_type": "markdown",
   "metadata": {},
   "source": [
    "### Описание данных"
   ]
  },
  {
   "cell_type": "markdown",
   "metadata": {},
   "source": [
    "- `EventName` — название события;\n",
    "- `DeviceIDHash` — уникальный идентификатор пользователя;\n",
    "- `EventTimestamp` — время события;\n",
    "- `ExpId` — номер эксперимента: 246 и 247 — контрольные группы, а 248 — экспериментальная."
   ]
  },
  {
   "cell_type": "markdown",
   "metadata": {},
   "source": [
    "### 1. Загрузка данных и подготовка к анализу"
   ]
  },
  {
   "cell_type": "code",
   "execution_count": 1,
   "metadata": {},
   "outputs": [],
   "source": [
    "# Библиотеки\n",
    "import pandas as pd\n",
    "import numpy as np\n",
    "from numpy import arange\n",
    "from datetime import datetime, date, time\n",
    "from IPython.display import display \n",
    "import datetime as dt\n",
    "import matplotlib.pyplot as plt\n",
    "import seaborn as sns\n",
    "from scipy import stats\n",
    "from statsmodels.stats.proportion import proportions_ztest\n",
    "from statsmodels.stats import weightstats as stestsztest\n",
    "from tqdm import tqdm\n",
    "import warnings as warning\n",
    "warning.filterwarnings('ignore')\n"
   ]
  },
  {
   "cell_type": "code",
   "execution_count": 2,
   "metadata": {},
   "outputs": [],
   "source": [
    "data = pd.read_csv('/datasets/logs_exp.csv', sep = '\\t')"
   ]
  },
  {
   "cell_type": "markdown",
   "metadata": {},
   "source": [
    "### 2. Подготовка данных"
   ]
  },
  {
   "cell_type": "code",
   "execution_count": 3,
   "metadata": {},
   "outputs": [
    {
     "name": "stdout",
     "output_type": "stream",
     "text": [
      "<class 'pandas.core.frame.DataFrame'>\n",
      "RangeIndex: 244126 entries, 0 to 244125\n",
      "Data columns (total 4 columns):\n",
      " #   Column          Non-Null Count   Dtype \n",
      "---  ------          --------------   ----- \n",
      " 0   EventName       244126 non-null  object\n",
      " 1   DeviceIDHash    244126 non-null  int64 \n",
      " 2   EventTimestamp  244126 non-null  int64 \n",
      " 3   ExpId           244126 non-null  int64 \n",
      "dtypes: int64(3), object(1)\n",
      "memory usage: 7.5+ MB\n"
     ]
    },
    {
     "data": {
      "text/html": [
       "<div>\n",
       "<style scoped>\n",
       "    .dataframe tbody tr th:only-of-type {\n",
       "        vertical-align: middle;\n",
       "    }\n",
       "\n",
       "    .dataframe tbody tr th {\n",
       "        vertical-align: top;\n",
       "    }\n",
       "\n",
       "    .dataframe thead th {\n",
       "        text-align: right;\n",
       "    }\n",
       "</style>\n",
       "<table border=\"1\" class=\"dataframe\">\n",
       "  <thead>\n",
       "    <tr style=\"text-align: right;\">\n",
       "      <th></th>\n",
       "      <th>EventName</th>\n",
       "      <th>DeviceIDHash</th>\n",
       "      <th>EventTimestamp</th>\n",
       "      <th>ExpId</th>\n",
       "    </tr>\n",
       "  </thead>\n",
       "  <tbody>\n",
       "    <tr>\n",
       "      <th>0</th>\n",
       "      <td>MainScreenAppear</td>\n",
       "      <td>4575588528974610257</td>\n",
       "      <td>1564029816</td>\n",
       "      <td>246</td>\n",
       "    </tr>\n",
       "    <tr>\n",
       "      <th>1</th>\n",
       "      <td>MainScreenAppear</td>\n",
       "      <td>7416695313311560658</td>\n",
       "      <td>1564053102</td>\n",
       "      <td>246</td>\n",
       "    </tr>\n",
       "    <tr>\n",
       "      <th>2</th>\n",
       "      <td>PaymentScreenSuccessful</td>\n",
       "      <td>3518123091307005509</td>\n",
       "      <td>1564054127</td>\n",
       "      <td>248</td>\n",
       "    </tr>\n",
       "    <tr>\n",
       "      <th>3</th>\n",
       "      <td>CartScreenAppear</td>\n",
       "      <td>3518123091307005509</td>\n",
       "      <td>1564054127</td>\n",
       "      <td>248</td>\n",
       "    </tr>\n",
       "    <tr>\n",
       "      <th>4</th>\n",
       "      <td>PaymentScreenSuccessful</td>\n",
       "      <td>6217807653094995999</td>\n",
       "      <td>1564055322</td>\n",
       "      <td>248</td>\n",
       "    </tr>\n",
       "  </tbody>\n",
       "</table>\n",
       "</div>"
      ],
      "text/plain": [
       "                 EventName         DeviceIDHash  EventTimestamp  ExpId\n",
       "0         MainScreenAppear  4575588528974610257      1564029816    246\n",
       "1         MainScreenAppear  7416695313311560658      1564053102    246\n",
       "2  PaymentScreenSuccessful  3518123091307005509      1564054127    248\n",
       "3         CartScreenAppear  3518123091307005509      1564054127    248\n",
       "4  PaymentScreenSuccessful  6217807653094995999      1564055322    248"
      ]
     },
     "metadata": {},
     "output_type": "display_data"
    }
   ],
   "source": [
    "data.info()\n",
    "display(data.head())"
   ]
  },
  {
   "cell_type": "code",
   "execution_count": 4,
   "metadata": {},
   "outputs": [
    {
     "data": {
      "text/plain": [
       "Index(['event_name', 'device_id_hash', 'event_time_stamp', 'exp_id'], dtype='object')"
      ]
     },
     "execution_count": 4,
     "metadata": {},
     "output_type": "execute_result"
    }
   ],
   "source": [
    "# Долой заглавные из названий столбцов\n",
    "data.columns = ['event_name', 'device_id_hash', 'event_time_stamp', 'exp_id']\n",
    "data.columns"
   ]
  },
  {
   "cell_type": "code",
   "execution_count": 5,
   "metadata": {},
   "outputs": [
    {
     "name": "stdout",
     "output_type": "stream",
     "text": [
      "<class 'pandas.core.frame.DataFrame'>\n",
      "RangeIndex: 244126 entries, 0 to 244125\n",
      "Data columns (total 5 columns):\n",
      " #   Column            Non-Null Count   Dtype         \n",
      "---  ------            --------------   -----         \n",
      " 0   event_name        244126 non-null  object        \n",
      " 1   device_id_hash    244126 non-null  int64         \n",
      " 2   event_time_stamp  244126 non-null  datetime64[ns]\n",
      " 3   exp_id            244126 non-null  int64         \n",
      " 4   date              244126 non-null  object        \n",
      "dtypes: datetime64[ns](1), int64(2), object(2)\n",
      "memory usage: 9.3+ MB\n"
     ]
    },
    {
     "data": {
      "text/html": [
       "<div>\n",
       "<style scoped>\n",
       "    .dataframe tbody tr th:only-of-type {\n",
       "        vertical-align: middle;\n",
       "    }\n",
       "\n",
       "    .dataframe tbody tr th {\n",
       "        vertical-align: top;\n",
       "    }\n",
       "\n",
       "    .dataframe thead th {\n",
       "        text-align: right;\n",
       "    }\n",
       "</style>\n",
       "<table border=\"1\" class=\"dataframe\">\n",
       "  <thead>\n",
       "    <tr style=\"text-align: right;\">\n",
       "      <th></th>\n",
       "      <th>event_name</th>\n",
       "      <th>device_id_hash</th>\n",
       "      <th>event_time_stamp</th>\n",
       "      <th>exp_id</th>\n",
       "      <th>date</th>\n",
       "    </tr>\n",
       "  </thead>\n",
       "  <tbody>\n",
       "    <tr>\n",
       "      <th>111517</th>\n",
       "      <td>OffersScreenAppear</td>\n",
       "      <td>4610257715841762748</td>\n",
       "      <td>2019-08-04 06:34:45</td>\n",
       "      <td>248</td>\n",
       "      <td>2019-08-04</td>\n",
       "    </tr>\n",
       "    <tr>\n",
       "      <th>125644</th>\n",
       "      <td>PaymentScreenSuccessful</td>\n",
       "      <td>5151218799456449998</td>\n",
       "      <td>2019-08-04 13:17:55</td>\n",
       "      <td>247</td>\n",
       "      <td>2019-08-04</td>\n",
       "    </tr>\n",
       "    <tr>\n",
       "      <th>11759</th>\n",
       "      <td>OffersScreenAppear</td>\n",
       "      <td>5563901287895361556</td>\n",
       "      <td>2019-08-01 09:15:19</td>\n",
       "      <td>248</td>\n",
       "      <td>2019-08-01</td>\n",
       "    </tr>\n",
       "    <tr>\n",
       "      <th>55850</th>\n",
       "      <td>MainScreenAppear</td>\n",
       "      <td>7179210912513448739</td>\n",
       "      <td>2019-08-02 12:13:40</td>\n",
       "      <td>248</td>\n",
       "      <td>2019-08-02</td>\n",
       "    </tr>\n",
       "    <tr>\n",
       "      <th>126372</th>\n",
       "      <td>MainScreenAppear</td>\n",
       "      <td>2928246415014807834</td>\n",
       "      <td>2019-08-04 13:41:40</td>\n",
       "      <td>246</td>\n",
       "      <td>2019-08-04</td>\n",
       "    </tr>\n",
       "  </tbody>\n",
       "</table>\n",
       "</div>"
      ],
      "text/plain": [
       "                     event_name       device_id_hash    event_time_stamp  \\\n",
       "111517       OffersScreenAppear  4610257715841762748 2019-08-04 06:34:45   \n",
       "125644  PaymentScreenSuccessful  5151218799456449998 2019-08-04 13:17:55   \n",
       "11759        OffersScreenAppear  5563901287895361556 2019-08-01 09:15:19   \n",
       "55850          MainScreenAppear  7179210912513448739 2019-08-02 12:13:40   \n",
       "126372         MainScreenAppear  2928246415014807834 2019-08-04 13:41:40   \n",
       "\n",
       "        exp_id        date  \n",
       "111517     248  2019-08-04  \n",
       "125644     247  2019-08-04  \n",
       "11759      248  2019-08-01  \n",
       "55850      248  2019-08-02  \n",
       "126372     246  2019-08-04  "
      ]
     },
     "metadata": {},
     "output_type": "display_data"
    }
   ],
   "source": [
    "data['event_time_stamp'] = pd.to_datetime(data['event_time_stamp'], unit = 's')\n",
    "data['date'] = data['event_time_stamp'].dt.date\n",
    "data.info()\n",
    "display(data.sample(5))"
   ]
  },
  {
   "cell_type": "code",
   "execution_count": 6,
   "metadata": {},
   "outputs": [
    {
     "data": {
      "text/plain": [
       "413"
      ]
     },
     "execution_count": 6,
     "metadata": {},
     "output_type": "execute_result"
    }
   ],
   "source": [
    "data.duplicated().sum()"
   ]
  },
  {
   "cell_type": "code",
   "execution_count": 7,
   "metadata": {},
   "outputs": [
    {
     "data": {
      "text/html": [
       "<div>\n",
       "<style scoped>\n",
       "    .dataframe tbody tr th:only-of-type {\n",
       "        vertical-align: middle;\n",
       "    }\n",
       "\n",
       "    .dataframe tbody tr th {\n",
       "        vertical-align: top;\n",
       "    }\n",
       "\n",
       "    .dataframe thead th {\n",
       "        text-align: right;\n",
       "    }\n",
       "</style>\n",
       "<table border=\"1\" class=\"dataframe\">\n",
       "  <thead>\n",
       "    <tr style=\"text-align: right;\">\n",
       "      <th></th>\n",
       "      <th>event_name</th>\n",
       "      <th>device_id_hash</th>\n",
       "      <th>event_time_stamp</th>\n",
       "      <th>exp_id</th>\n",
       "      <th>date</th>\n",
       "    </tr>\n",
       "  </thead>\n",
       "  <tbody>\n",
       "    <tr>\n",
       "      <th>0</th>\n",
       "      <td>MainScreenAppear</td>\n",
       "      <td>4575588528974610257</td>\n",
       "      <td>2019-07-25 04:43:36</td>\n",
       "      <td>246</td>\n",
       "      <td>2019-07-25</td>\n",
       "    </tr>\n",
       "    <tr>\n",
       "      <th>1</th>\n",
       "      <td>MainScreenAppear</td>\n",
       "      <td>7416695313311560658</td>\n",
       "      <td>2019-07-25 11:11:42</td>\n",
       "      <td>246</td>\n",
       "      <td>2019-07-25</td>\n",
       "    </tr>\n",
       "    <tr>\n",
       "      <th>2</th>\n",
       "      <td>PaymentScreenSuccessful</td>\n",
       "      <td>3518123091307005509</td>\n",
       "      <td>2019-07-25 11:28:47</td>\n",
       "      <td>248</td>\n",
       "      <td>2019-07-25</td>\n",
       "    </tr>\n",
       "    <tr>\n",
       "      <th>3</th>\n",
       "      <td>CartScreenAppear</td>\n",
       "      <td>3518123091307005509</td>\n",
       "      <td>2019-07-25 11:28:47</td>\n",
       "      <td>248</td>\n",
       "      <td>2019-07-25</td>\n",
       "    </tr>\n",
       "    <tr>\n",
       "      <th>4</th>\n",
       "      <td>PaymentScreenSuccessful</td>\n",
       "      <td>6217807653094995999</td>\n",
       "      <td>2019-07-25 11:48:42</td>\n",
       "      <td>248</td>\n",
       "      <td>2019-07-25</td>\n",
       "    </tr>\n",
       "  </tbody>\n",
       "</table>\n",
       "</div>"
      ],
      "text/plain": [
       "                event_name       device_id_hash    event_time_stamp  exp_id  \\\n",
       "0         MainScreenAppear  4575588528974610257 2019-07-25 04:43:36     246   \n",
       "1         MainScreenAppear  7416695313311560658 2019-07-25 11:11:42     246   \n",
       "2  PaymentScreenSuccessful  3518123091307005509 2019-07-25 11:28:47     248   \n",
       "3         CartScreenAppear  3518123091307005509 2019-07-25 11:28:47     248   \n",
       "4  PaymentScreenSuccessful  6217807653094995999 2019-07-25 11:48:42     248   \n",
       "\n",
       "         date  \n",
       "0  2019-07-25  \n",
       "1  2019-07-25  \n",
       "2  2019-07-25  \n",
       "3  2019-07-25  \n",
       "4  2019-07-25  "
      ]
     },
     "execution_count": 7,
     "metadata": {},
     "output_type": "execute_result"
    }
   ],
   "source": [
    "data.drop_duplicates().reset_index(drop=True).head()"
   ]
  },
  {
   "cell_type": "markdown",
   "metadata": {},
   "source": [
    "### 3. Изучение и проверка данных"
   ]
  },
  {
   "cell_type": "markdown",
   "metadata": {},
   "source": [
    "#### 3.1. Количество событий в логе"
   ]
  },
  {
   "cell_type": "code",
   "execution_count": 8,
   "metadata": {},
   "outputs": [
    {
     "name": "stdout",
     "output_type": "stream",
     "text": [
      "Количество событий в логе 5\n"
     ]
    }
   ],
   "source": [
    "print('Количество событий в логе', data['event_name'].nunique())"
   ]
  },
  {
   "cell_type": "markdown",
   "metadata": {},
   "source": [
    "##### Выводы"
   ]
  },
  {
   "cell_type": "markdown",
   "metadata": {},
   "source": [
    "В логе всего 5 событий"
   ]
  },
  {
   "cell_type": "markdown",
   "metadata": {},
   "source": [
    "#### 3.2. Количество пользователей в логе"
   ]
  },
  {
   "cell_type": "code",
   "execution_count": 9,
   "metadata": {},
   "outputs": [
    {
     "data": {
      "image/png": "[encoded data removed]",
      "text/plain": [
       "<Figure size 576x360 with 1 Axes>"
      ]
     },
     "metadata": {
      "needs_background": "light"
     },
     "output_type": "display_data"
    }
   ],
   "source": [
    "user_number = data.groupby('event_name')[['device_id_hash']].count().reset_index().sort_values(by = 'device_id_hash')\n",
    "fig, ax = plt.subplots(figsize=(8, 5))\n",
    "sns.barplot(data=user_number, x='event_name', y='device_id_hash', ax=ax, color='#448A96')\n",
    "ax.set_title('Разпределение пользователей по типу событий')\n",
    "ax.set_xlabel('Тип событий')\n",
    "ax.set_ylabel('Количество пользователей')\n",
    "ax.grid(color='grey', alpha=0.25, axis='y')\n",
    "ax.set_xticklabels(labels=user_number['event_name'],fontdict={'fontsize': 10}, rotation=45)\n",
    "None"
   ]
  },
  {
   "cell_type": "markdown",
   "metadata": {},
   "source": [
    "##### Выводы"
   ]
  },
  {
   "cell_type": "markdown",
   "metadata": {},
   "source": [
    "Самым популярным событием является `MainScreenAppear`, самым редким посещение страницы `Tutorial`"
   ]
  },
  {
   "cell_type": "markdown",
   "metadata": {},
   "source": [
    "#### 3.3. Среднее количество событий приходится на пользователя?"
   ]
  },
  {
   "cell_type": "code",
   "execution_count": 10,
   "metadata": {},
   "outputs": [
    {
     "name": "stdout",
     "output_type": "stream",
     "text": [
      "Среднее количество событий приходится на пользователя 0    5\n",
      "dtype: int64\n"
     ]
    }
   ],
   "source": [
    "user_event_name = data.groupby('device_id_hash')['event_name'].count()\n",
    "print('Среднее количество событий приходится на пользователя', user_event_name.mode())"
   ]
  },
  {
   "cell_type": "markdown",
   "metadata": {},
   "source": [
    "##### Выводы"
   ]
  },
  {
   "cell_type": "markdown",
   "metadata": {},
   "source": [
    "Поскольку данные  по количеству событий неоднородные и имееют достаточно резкие перепады, для определения среднего количества возьмем моду. На одного пользователя приходится около 5 событий."
   ]
  },
  {
   "cell_type": "code",
   "execution_count": 11,
   "metadata": {},
   "outputs": [
    {
     "name": "stdout",
     "output_type": "stream",
     "text": [
      "Среднее арифметическое количество событий приходится на пользователя 32.33028737915508\n",
      "Среднее медианное количество событий приходится на пользователя 20.0\n",
      "минимальное количество событий приходится на пользователя 1\n",
      "максимальное количество событий приходится на пользователя 2308\n"
     ]
    }
   ],
   "source": [
    "print('Среднее арифметическое количество событий приходится на пользователя', user_event_name.mean())\n",
    "print('Среднее медианное количество событий приходится на пользователя', user_event_name.median())\n",
    "print('минимальное количество событий приходится на пользователя', user_event_name.min())\n",
    "print('максимальное количество событий приходится на пользователя', user_event_name.max())"
   ]
  },
  {
   "cell_type": "markdown",
   "metadata": {},
   "source": [
    "#### 3.4.  Найдите максимальную и минимальную дату. Постройте гистограмму по дате и времени. Можно ли быть уверенным, что у вас одинаково полные данные за весь период? Технически в логи новых дней по некоторым пользователям могут «доезжать» события из прошлого — это может «перекашивать данные». Определите, с какого момента данные полные и отбросьте более старые. Данными за какой период времени вы располагаете на самом деле?"
   ]
  },
  {
   "cell_type": "code",
   "execution_count": 12,
   "metadata": {},
   "outputs": [
    {
     "name": "stdout",
     "output_type": "stream",
     "text": [
      "Исходные данные получены за период 2019-07-25 - 2019-08-07\n"
     ]
    }
   ],
   "source": [
    "print('Исходные данные получены за период', data['date'].min(), '-',data['date'].max())"
   ]
  },
  {
   "cell_type": "code",
   "execution_count": 13,
   "metadata": {},
   "outputs": [
    {
     "data": {
      "text/html": [
       "<div>\n",
       "<style scoped>\n",
       "    .dataframe tbody tr th:only-of-type {\n",
       "        vertical-align: middle;\n",
       "    }\n",
       "\n",
       "    .dataframe tbody tr th {\n",
       "        vertical-align: top;\n",
       "    }\n",
       "\n",
       "    .dataframe thead th {\n",
       "        text-align: right;\n",
       "    }\n",
       "</style>\n",
       "<table border=\"1\" class=\"dataframe\">\n",
       "  <thead>\n",
       "    <tr style=\"text-align: right;\">\n",
       "      <th></th>\n",
       "      <th>event_time_stamp</th>\n",
       "      <th>numb</th>\n",
       "    </tr>\n",
       "  </thead>\n",
       "  <tbody>\n",
       "    <tr>\n",
       "      <th>0</th>\n",
       "      <td>2019-07-25 04:43:36</td>\n",
       "      <td>1</td>\n",
       "    </tr>\n",
       "    <tr>\n",
       "      <th>1</th>\n",
       "      <td>2019-07-25 11:11:42</td>\n",
       "      <td>1</td>\n",
       "    </tr>\n",
       "    <tr>\n",
       "      <th>2</th>\n",
       "      <td>2019-07-25 11:28:47</td>\n",
       "      <td>2</td>\n",
       "    </tr>\n",
       "    <tr>\n",
       "      <th>3</th>\n",
       "      <td>2019-07-25 11:48:42</td>\n",
       "      <td>1</td>\n",
       "    </tr>\n",
       "    <tr>\n",
       "      <th>4</th>\n",
       "      <td>2019-07-25 11:48:43</td>\n",
       "      <td>1</td>\n",
       "    </tr>\n",
       "  </tbody>\n",
       "</table>\n",
       "</div>"
      ],
      "text/plain": [
       "     event_time_stamp  numb\n",
       "0 2019-07-25 04:43:36     1\n",
       "1 2019-07-25 11:11:42     1\n",
       "2 2019-07-25 11:28:47     2\n",
       "3 2019-07-25 11:48:42     1\n",
       "4 2019-07-25 11:48:43     1"
      ]
     },
     "execution_count": 13,
     "metadata": {},
     "output_type": "execute_result"
    }
   ],
   "source": [
    "time = data.groupby('event_time_stamp', as_index = False)['device_id_hash'].count()\n",
    "time = time.rename(columns = {'device_id_hash':'numb'})\n",
    "time.head()"
   ]
  },
  {
   "cell_type": "code",
   "execution_count": 14,
   "metadata": {},
   "outputs": [
    {
     "data": {
      "image/png": "[encoded data removed]",
      "text/plain": [
       "<Figure size 432x288 with 1 Axes>"
      ]
     },
     "metadata": {
      "needs_background": "light"
     },
     "output_type": "display_data"
    }
   ],
   "source": [
    "fig, ax = plt.subplots()\n",
    "plt.ylabel('Количество')\n",
    "plt.xlabel('Дата')\n",
    "plt.title('Распределение данных по времени')\n",
    "plt.plot(time['event_time_stamp'], time['numb'], color='#448A96')\n",
    "fig.autofmt_xdate()\n",
    "None"
   ]
  },
  {
   "cell_type": "code",
   "execution_count": 15,
   "metadata": {},
   "outputs": [
    {
     "data": {
      "text/html": [
       "<div>\n",
       "<style scoped>\n",
       "    .dataframe tbody tr th:only-of-type {\n",
       "        vertical-align: middle;\n",
       "    }\n",
       "\n",
       "    .dataframe tbody tr th {\n",
       "        vertical-align: top;\n",
       "    }\n",
       "\n",
       "    .dataframe thead th {\n",
       "        text-align: right;\n",
       "    }\n",
       "</style>\n",
       "<table border=\"1\" class=\"dataframe\">\n",
       "  <thead>\n",
       "    <tr style=\"text-align: right;\">\n",
       "      <th></th>\n",
       "      <th>ts_hours</th>\n",
       "      <th>device_id_hash</th>\n",
       "    </tr>\n",
       "  </thead>\n",
       "  <tbody>\n",
       "    <tr>\n",
       "      <th>0</th>\n",
       "      <td>2019-07-25 04:00:00</td>\n",
       "      <td>1</td>\n",
       "    </tr>\n",
       "    <tr>\n",
       "      <th>1</th>\n",
       "      <td>2019-07-25 11:00:00</td>\n",
       "      <td>3</td>\n",
       "    </tr>\n",
       "    <tr>\n",
       "      <th>2</th>\n",
       "      <td>2019-07-25 14:00:00</td>\n",
       "      <td>1</td>\n",
       "    </tr>\n",
       "    <tr>\n",
       "      <th>3</th>\n",
       "      <td>2019-07-25 20:00:00</td>\n",
       "      <td>2</td>\n",
       "    </tr>\n",
       "    <tr>\n",
       "      <th>4</th>\n",
       "      <td>2019-07-26 03:00:00</td>\n",
       "      <td>1</td>\n",
       "    </tr>\n",
       "    <tr>\n",
       "      <th>...</th>\n",
       "      <td>...</td>\n",
       "      <td>...</td>\n",
       "    </tr>\n",
       "    <tr>\n",
       "      <th>279</th>\n",
       "      <td>2019-08-07 17:00:00</td>\n",
       "      <td>383</td>\n",
       "    </tr>\n",
       "    <tr>\n",
       "      <th>280</th>\n",
       "      <td>2019-08-07 18:00:00</td>\n",
       "      <td>323</td>\n",
       "    </tr>\n",
       "    <tr>\n",
       "      <th>281</th>\n",
       "      <td>2019-08-07 19:00:00</td>\n",
       "      <td>277</td>\n",
       "    </tr>\n",
       "    <tr>\n",
       "      <th>282</th>\n",
       "      <td>2019-08-07 20:00:00</td>\n",
       "      <td>175</td>\n",
       "    </tr>\n",
       "    <tr>\n",
       "      <th>283</th>\n",
       "      <td>2019-08-07 21:00:00</td>\n",
       "      <td>23</td>\n",
       "    </tr>\n",
       "  </tbody>\n",
       "</table>\n",
       "<p>284 rows × 2 columns</p>\n",
       "</div>"
      ],
      "text/plain": [
       "               ts_hours  device_id_hash\n",
       "0   2019-07-25 04:00:00               1\n",
       "1   2019-07-25 11:00:00               3\n",
       "2   2019-07-25 14:00:00               1\n",
       "3   2019-07-25 20:00:00               2\n",
       "4   2019-07-26 03:00:00               1\n",
       "..                  ...             ...\n",
       "279 2019-08-07 17:00:00             383\n",
       "280 2019-08-07 18:00:00             323\n",
       "281 2019-08-07 19:00:00             277\n",
       "282 2019-08-07 20:00:00             175\n",
       "283 2019-08-07 21:00:00              23\n",
       "\n",
       "[284 rows x 2 columns]"
      ]
     },
     "execution_count": 15,
     "metadata": {},
     "output_type": "execute_result"
    }
   ],
   "source": [
    "df_viz = data\\\n",
    "    .assign(ts_hours = data['event_time_stamp'].astype('datetime64[h]'))\\\n",
    "    .groupby('ts_hours', as_index=False)\\\n",
    "    .agg({'device_id_hash': 'nunique'})\\\n",
    "    .sort_values(by='ts_hours')\n",
    "df_viz"
   ]
  },
  {
   "cell_type": "code",
   "execution_count": 16,
   "metadata": {},
   "outputs": [
    {
     "data": {
      "image/png": "[encoded data removed]",
      "text/plain": [
       "<Figure size 864x432 with 1 Axes>"
      ]
     },
     "metadata": {
      "needs_background": "light"
     },
     "output_type": "display_data"
    }
   ],
   "source": [
    "fig, ax = plt.subplots(figsize=(12, 6))\n",
    "sns.barplot(data=df_viz, x='ts_hours', y='device_id_hash', ax=ax, color='#98C6FF')\n",
    "ax.set_title('Hourly active users')\n",
    "ax.set_xticks(ticks=[*range(len(df_viz['ts_hours']))][::20])\n",
    "ax.set_xticklabels(labels=df_viz['ts_hours'].dt.strftime('%Y-%m-%d %H').to_list()[::20], \n",
    "                   fontdict={'fontsize': 10}, rotation=45)\n",
    "ax.set_xlabel('Дата')\n",
    "ax.set_ylabel('Uniq users')\n",
    "ax.grid(color='grey', alpha=0.25, axis='y')"
   ]
  },
  {
   "cell_type": "markdown",
   "metadata": {},
   "source": [
    "##### Выводы"
   ]
  },
  {
   "cell_type": "markdown",
   "metadata": {},
   "source": [
    "Судя по графику в месте резкого скачка находится граница неполных и полных данных. Для дальнейшего анализа возьмем период полных данных с 2019-08-01 по 2019-08-07"
   ]
  },
  {
   "cell_type": "markdown",
   "metadata": {},
   "source": [
    "#### 3.5. Сколько событий и пользователей потеряли, отбросив старые данные?"
   ]
  },
  {
   "cell_type": "code",
   "execution_count": 17,
   "metadata": {},
   "outputs": [
    {
     "name": "stdout",
     "output_type": "stream",
     "text": [
      "Количество потерянных событий 2828\n",
      "Количество потерянных пользователей 5\n"
     ]
    }
   ],
   "source": [
    "data_loss = data[data['event_time_stamp'] < '2019-08-01']\n",
    "print('Количество потерянных событий', data_loss['event_name'].count())\n",
    "print('Количество потерянных пользователей', data_loss['event_name'].nunique())"
   ]
  },
  {
   "cell_type": "markdown",
   "metadata": {},
   "source": [
    "##### Выводы"
   ]
  },
  {
   "cell_type": "markdown",
   "metadata": {},
   "source": [
    "В отсеяные данные попали 2828 событий и 5 пользователей"
   ]
  },
  {
   "cell_type": "markdown",
   "metadata": {},
   "source": [
    "#### 3.6. Проверьте, наличие пользователей из всех трёх экспериментальных групп."
   ]
  },
  {
   "cell_type": "code",
   "execution_count": 18,
   "metadata": {},
   "outputs": [
    {
     "data": {
      "text/plain": [
       "exp_id\n",
       "246    2484\n",
       "247    2513\n",
       "248    2537\n",
       "Name: device_id_hash, dtype: int64"
      ]
     },
     "metadata": {},
     "output_type": "display_data"
    }
   ],
   "source": [
    "data_clear = data[data['event_time_stamp'] >= '2019-08-01']\n",
    "display(data_clear.groupby('exp_id')['device_id_hash'].nunique())"
   ]
  },
  {
   "cell_type": "markdown",
   "metadata": {},
   "source": [
    "##### Выводы"
   ]
  },
  {
   "cell_type": "markdown",
   "metadata": {},
   "source": [
    "В каждой из трех групп присутствуют пользователи:\n",
    "- в 246 группе 2484 пользователя\n",
    "- в 247 группе 2513 пользователя\n",
    "- в 248 группе 2537 пользователя"
   ]
  },
  {
   "cell_type": "markdown",
   "metadata": {},
   "source": [
    "### 4. Изучение воронки событий"
   ]
  },
  {
   "cell_type": "markdown",
   "metadata": {},
   "source": [
    "#### 4.1. Посмотрите, какие события есть в логах, как часто они встречаются. Отсортируйте события по частоте."
   ]
  },
  {
   "cell_type": "code",
   "execution_count": 19,
   "metadata": {},
   "outputs": [
    {
     "name": "stdout",
     "output_type": "stream",
     "text": [
      "MainScreenAppear           117431\n",
      "OffersScreenAppear          46350\n",
      "CartScreenAppear            42365\n",
      "PaymentScreenSuccessful     34113\n",
      "Tutorial                     1039\n",
      "Name: event_name, dtype: int64\n"
     ]
    }
   ],
   "source": [
    "print(data_clear['event_name'].value_counts())"
   ]
  },
  {
   "cell_type": "markdown",
   "metadata": {},
   "source": [
    "##### Выводы"
   ]
  },
  {
   "cell_type": "markdown",
   "metadata": {},
   "source": [
    "Типы событий в логах:\n",
    "- `MainScreenAppear`\n",
    "- `PaymentScreenSuccessful`\n",
    "- `CartScreenAppear`\n",
    "- `OffersScreenAppear`\n",
    "- `Tutorial`\n",
    "\n",
    "Чаще всего встречается  `MainScreenAppear`, самым редким событием является `Tutorial`."
   ]
  },
  {
   "cell_type": "markdown",
   "metadata": {},
   "source": [
    "#### 4.2. Посчитайте, сколько пользователей совершали каждое из этих событий. Отсортируйте события по числу пользователей. Посчитайте долю пользователей, которые хоть раз совершали событие."
   ]
  },
  {
   "cell_type": "code",
   "execution_count": 20,
   "metadata": {},
   "outputs": [
    {
     "data": {
      "text/html": [
       "<div>\n",
       "<style scoped>\n",
       "    .dataframe tbody tr th:only-of-type {\n",
       "        vertical-align: middle;\n",
       "    }\n",
       "\n",
       "    .dataframe tbody tr th {\n",
       "        vertical-align: top;\n",
       "    }\n",
       "\n",
       "    .dataframe thead th {\n",
       "        text-align: right;\n",
       "    }\n",
       "</style>\n",
       "<table border=\"1\" class=\"dataframe\">\n",
       "  <thead>\n",
       "    <tr style=\"text-align: right;\">\n",
       "      <th></th>\n",
       "      <th>device_id_hash</th>\n",
       "      <th>user_share</th>\n",
       "    </tr>\n",
       "    <tr>\n",
       "      <th>event_name</th>\n",
       "      <th></th>\n",
       "      <th></th>\n",
       "    </tr>\n",
       "  </thead>\n",
       "  <tbody>\n",
       "    <tr>\n",
       "      <th>MainScreenAppear</th>\n",
       "      <td>7419</td>\n",
       "      <td>0.985</td>\n",
       "    </tr>\n",
       "    <tr>\n",
       "      <th>OffersScreenAppear</th>\n",
       "      <td>4593</td>\n",
       "      <td>0.610</td>\n",
       "    </tr>\n",
       "    <tr>\n",
       "      <th>CartScreenAppear</th>\n",
       "      <td>3734</td>\n",
       "      <td>0.496</td>\n",
       "    </tr>\n",
       "    <tr>\n",
       "      <th>PaymentScreenSuccessful</th>\n",
       "      <td>3539</td>\n",
       "      <td>0.470</td>\n",
       "    </tr>\n",
       "    <tr>\n",
       "      <th>Tutorial</th>\n",
       "      <td>840</td>\n",
       "      <td>0.111</td>\n",
       "    </tr>\n",
       "  </tbody>\n",
       "</table>\n",
       "</div>"
      ],
      "text/plain": [
       "                         device_id_hash  user_share\n",
       "event_name                                         \n",
       "MainScreenAppear                   7419       0.985\n",
       "OffersScreenAppear                 4593       0.610\n",
       "CartScreenAppear                   3734       0.496\n",
       "PaymentScreenSuccessful            3539       0.470\n",
       "Tutorial                            840       0.111"
      ]
     },
     "execution_count": 20,
     "metadata": {},
     "output_type": "execute_result"
    }
   ],
   "source": [
    "event_users = data_clear.groupby('event_name')[['device_id_hash']].nunique().sort_values(by='device_id_hash', ascending = False)\n",
    "event_users['user_share'] = round(event_users['device_id_hash']/data_clear['device_id_hash'].nunique(), 3)\n",
    "event_users"
   ]
  },
  {
   "cell_type": "code",
   "execution_count": 21,
   "metadata": {},
   "outputs": [
    {
     "name": "stdout",
     "output_type": "stream",
     "text": [
      "Доля пользователей, которые хоть раз совершали все события 6.19%\n"
     ]
    }
   ],
   "source": [
    "total_id = data_clear.groupby('device_id_hash')[['event_name']].nunique()\n",
    "\n",
    "id_event = total_id.query('event_name ==5')\n",
    "print('Доля пользователей, которые хоть раз совершали все события {:.2f}%'\\\n",
    "      .format(id_event['event_name'].count()*100/data_clear['device_id_hash'].nunique()))"
   ]
  },
  {
   "cell_type": "markdown",
   "metadata": {},
   "source": [
    "##### Выводы"
   ]
  },
  {
   "cell_type": "markdown",
   "metadata": {},
   "source": [
    "Доля пользователей, которые хоть раз совершали все события 6.19%\n",
    "\n",
    "Доля пользователей, которые хоть раз совершали событие:\n",
    "\n",
    "<img align=\"left\" width=\"350\" height=\"350\" src=\"http://joxi.ru/MAj6NLMikJ95DA.jpg\">"
   ]
  },
  {
   "cell_type": "code",
   "execution_count": 22,
   "metadata": {},
   "outputs": [
    {
     "data": {
      "text/plain": [
       "7534"
      ]
     },
     "execution_count": 22,
     "metadata": {},
     "output_type": "execute_result"
    }
   ],
   "source": [
    "data_clear['device_id_hash'].nunique()"
   ]
  },
  {
   "cell_type": "markdown",
   "metadata": {},
   "source": [
    "#### 4.3. Предположите, в каком порядке происходят события. Все ли они выстраиваются в последовательную цепочку? Их не нужно учитывать при расчёте воронки."
   ]
  },
  {
   "cell_type": "markdown",
   "metadata": {},
   "source": [
    "Порядок событий:\n",
    "1. `MainScreenAppear` \n",
    "2. `OffersScreenAppear` \n",
    "3. `CartScreenAppear`\n",
    "4. `PaymentScreenSuccessful`\n",
    "\n",
    "Событие `Tutorial` может произойти в любой момент нахождения пользователя на сайте, поэтому в последовательность оно не вписывается и не будет учитываться при расчете воронки."
   ]
  },
  {
   "cell_type": "markdown",
   "metadata": {},
   "source": [
    "#### 4.4. По воронке событий посчитайте, какая доля пользователей проходит на следующий шаг воронки (от числа пользователей на предыдущем). То есть для последовательности событий A → B → C посчитайте отношение числа пользователей с событием B к количеству пользователей с событием A, а также отношение числа пользователей с событием C к количеству пользователей с событием B."
   ]
  },
  {
   "cell_type": "code",
   "execution_count": 23,
   "metadata": {},
   "outputs": [
    {
     "data": {
      "text/html": [
       "<div>\n",
       "<style scoped>\n",
       "    .dataframe tbody tr th:only-of-type {\n",
       "        vertical-align: middle;\n",
       "    }\n",
       "\n",
       "    .dataframe tbody tr th {\n",
       "        vertical-align: top;\n",
       "    }\n",
       "\n",
       "    .dataframe thead th {\n",
       "        text-align: right;\n",
       "    }\n",
       "</style>\n",
       "<table border=\"1\" class=\"dataframe\">\n",
       "  <thead>\n",
       "    <tr style=\"text-align: right;\">\n",
       "      <th>event_name</th>\n",
       "      <th>CartScreenAppear</th>\n",
       "      <th>MainScreenAppear</th>\n",
       "      <th>OffersScreenAppear</th>\n",
       "      <th>PaymentScreenSuccessful</th>\n",
       "    </tr>\n",
       "    <tr>\n",
       "      <th>device_id_hash</th>\n",
       "      <th></th>\n",
       "      <th></th>\n",
       "      <th></th>\n",
       "      <th></th>\n",
       "    </tr>\n",
       "  </thead>\n",
       "  <tbody>\n",
       "    <tr>\n",
       "      <th>6888746892508752</th>\n",
       "      <td>NaN</td>\n",
       "      <td>2019-08-06</td>\n",
       "      <td>NaN</td>\n",
       "      <td>NaN</td>\n",
       "    </tr>\n",
       "    <tr>\n",
       "      <th>6909561520679493</th>\n",
       "      <td>2019-08-06</td>\n",
       "      <td>2019-08-06</td>\n",
       "      <td>2019-08-06</td>\n",
       "      <td>2019-08-06</td>\n",
       "    </tr>\n",
       "    <tr>\n",
       "      <th>6922444491712477</th>\n",
       "      <td>2019-08-04</td>\n",
       "      <td>2019-08-04</td>\n",
       "      <td>2019-08-04</td>\n",
       "      <td>2019-08-04</td>\n",
       "    </tr>\n",
       "    <tr>\n",
       "      <th>7435777799948366</th>\n",
       "      <td>NaN</td>\n",
       "      <td>2019-08-05</td>\n",
       "      <td>NaN</td>\n",
       "      <td>NaN</td>\n",
       "    </tr>\n",
       "    <tr>\n",
       "      <th>7702139951469979</th>\n",
       "      <td>2019-08-02</td>\n",
       "      <td>2019-08-01</td>\n",
       "      <td>2019-08-01</td>\n",
       "      <td>2019-08-02</td>\n",
       "    </tr>\n",
       "  </tbody>\n",
       "</table>\n",
       "</div>"
      ],
      "text/plain": [
       "event_name       CartScreenAppear MainScreenAppear OffersScreenAppear  \\\n",
       "device_id_hash                                                          \n",
       "6888746892508752              NaN       2019-08-06                NaN   \n",
       "6909561520679493       2019-08-06       2019-08-06         2019-08-06   \n",
       "6922444491712477       2019-08-04       2019-08-04         2019-08-04   \n",
       "7435777799948366              NaN       2019-08-05                NaN   \n",
       "7702139951469979       2019-08-02       2019-08-01         2019-08-01   \n",
       "\n",
       "event_name       PaymentScreenSuccessful  \n",
       "device_id_hash                            \n",
       "6888746892508752                     NaN  \n",
       "6909561520679493              2019-08-06  \n",
       "6922444491712477              2019-08-04  \n",
       "7435777799948366                     NaN  \n",
       "7702139951469979              2019-08-02  "
      ]
     },
     "execution_count": 23,
     "metadata": {},
     "output_type": "execute_result"
    }
   ],
   "source": [
    "funnel = data_clear.query('event_name != \"Tutorial\"').pivot_table(\n",
    "    index='device_id_hash', columns='event_name', values='date', aggfunc='min'\n",
    ") \n",
    "funnel.head()"
   ]
  },
  {
   "cell_type": "code",
   "execution_count": 24,
   "metadata": {},
   "outputs": [],
   "source": [
    "# Считаем воронку\n",
    "n_main = funnel[~funnel['MainScreenAppear'].isna()].shape[0]\n",
    "n_offers = funnel[~funnel['OffersScreenAppear'].isna()].shape[0]\n",
    "n_cart = funnel[~funnel['CartScreenAppear'].isna()].shape[0]\n",
    "n_payment = funnel[~funnel['PaymentScreenSuccessful'].isna()].shape[0]"
   ]
  },
  {
   "cell_type": "code",
   "execution_count": 25,
   "metadata": {},
   "outputs": [
    {
     "name": "stdout",
     "output_type": "stream",
     "text": [
      "Посетителей: 7419\n",
      "Перешли на страницу с товарами: 4593\n",
      "Добавили товар в корзину: 3734\n",
      "Оплатили заказ: 3539\n"
     ]
    }
   ],
   "source": [
    "print('Посетителей:', n_main)\n",
    "print('Перешли на страницу с товарами:', n_offers)\n",
    "print('Добавили товар в корзину:', n_cart)\n",
    "print('Оплатили заказ:', n_payment)"
   ]
  },
  {
   "cell_type": "code",
   "execution_count": 26,
   "metadata": {},
   "outputs": [
    {
     "name": "stdout",
     "output_type": "stream",
     "text": [
      "Конверсия перехода на страницу с товарами: 0.62\n",
      "Конверсия перехода в корзину: 0.81\n",
      "Конверсия оплаты заказа: 0.95\n"
     ]
    }
   ],
   "source": [
    "print('Конверсия перехода на страницу с товарами:', round(n_offers/n_main, 2))\n",
    "print('Конверсия перехода в корзину:', round(n_cart/n_offers, 2))\n",
    "print('Конверсия оплаты заказа:', round(n_payment/n_cart, 2))"
   ]
  },
  {
   "cell_type": "markdown",
   "metadata": {},
   "source": [
    "#### 4.5. На каком шаге теряете больше всего пользователей?"
   ]
  },
  {
   "cell_type": "markdown",
   "metadata": {},
   "source": [
    "Самая большая потеря пользователей в 38% происходит на этапе перехода со стартовой страницы(`MainScreenAppear`) на страницу товара(`OffersScreenAppear`)"
   ]
  },
  {
   "cell_type": "markdown",
   "metadata": {},
   "source": [
    "#### 4.6. Какая доля пользователей доходит от первого события до оплаты?"
   ]
  },
  {
   "cell_type": "code",
   "execution_count": 27,
   "metadata": {
    "scrolled": true
   },
   "outputs": [
    {
     "name": "stdout",
     "output_type": "stream",
     "text": [
      "Доля пользователей доходящих от первого события до оплаты: 0.48\n"
     ]
    }
   ],
   "source": [
    "print('Доля пользователей доходящих от первого события до оплаты:', round(n_payment/n_main, 2))"
   ]
  },
  {
   "cell_type": "code",
   "execution_count": 28,
   "metadata": {},
   "outputs": [
    {
     "data": {
      "text/html": [
       "<div>\n",
       "<style scoped>\n",
       "    .dataframe tbody tr th:only-of-type {\n",
       "        vertical-align: middle;\n",
       "    }\n",
       "\n",
       "    .dataframe tbody tr th {\n",
       "        vertical-align: top;\n",
       "    }\n",
       "\n",
       "    .dataframe thead th {\n",
       "        text-align: right;\n",
       "    }\n",
       "</style>\n",
       "<table border=\"1\" class=\"dataframe\">\n",
       "  <thead>\n",
       "    <tr style=\"text-align: right;\">\n",
       "      <th></th>\n",
       "      <th>event_name</th>\n",
       "      <th>device_id_hash</th>\n",
       "      <th>cr</th>\n",
       "    </tr>\n",
       "  </thead>\n",
       "  <tbody>\n",
       "    <tr>\n",
       "      <th>1</th>\n",
       "      <td>MainScreenAppear</td>\n",
       "      <td>7419</td>\n",
       "      <td>NaN</td>\n",
       "    </tr>\n",
       "    <tr>\n",
       "      <th>2</th>\n",
       "      <td>OffersScreenAppear</td>\n",
       "      <td>4593</td>\n",
       "      <td>0.619086</td>\n",
       "    </tr>\n",
       "    <tr>\n",
       "      <th>0</th>\n",
       "      <td>CartScreenAppear</td>\n",
       "      <td>3734</td>\n",
       "      <td>0.812976</td>\n",
       "    </tr>\n",
       "    <tr>\n",
       "      <th>3</th>\n",
       "      <td>PaymentScreenSuccessful</td>\n",
       "      <td>3539</td>\n",
       "      <td>0.947777</td>\n",
       "    </tr>\n",
       "  </tbody>\n",
       "</table>\n",
       "</div>"
      ],
      "text/plain": [
       "                event_name  device_id_hash        cr\n",
       "1         MainScreenAppear            7419       NaN\n",
       "2       OffersScreenAppear            4593  0.619086\n",
       "0         CartScreenAppear            3734  0.812976\n",
       "3  PaymentScreenSuccessful            3539  0.947777"
      ]
     },
     "execution_count": 28,
     "metadata": {},
     "output_type": "execute_result"
    }
   ],
   "source": [
    "data_clear\\\n",
    "    .query(\"event_name != 'Tutorial'\")\\\n",
    "    .groupby('event_name', as_index=False)\\\n",
    "    .agg({'device_id_hash': 'nunique'})\\\n",
    "    .sort_values(by='device_id_hash', ascending=False)\\\n",
    "    .assign(cr=lambda row: row['device_id_hash'] / row['device_id_hash'].shift())"
   ]
  },
  {
   "cell_type": "markdown",
   "metadata": {},
   "source": [
    "###  5. Изучите результаты эксперимента"
   ]
  },
  {
   "cell_type": "markdown",
   "metadata": {},
   "source": [
    "####  5.1. Сколько пользователей в каждой экспериментальной группе?"
   ]
  },
  {
   "cell_type": "code",
   "execution_count": 29,
   "metadata": {},
   "outputs": [
    {
     "data": {
      "text/plain": [
       "exp_id\n",
       "246    2484\n",
       "247    2513\n",
       "248    2537\n",
       "Name: device_id_hash, dtype: int64"
      ]
     },
     "metadata": {},
     "output_type": "display_data"
    }
   ],
   "source": [
    "display(data_clear.groupby('exp_id')['device_id_hash'].nunique())"
   ]
  },
  {
   "cell_type": "markdown",
   "metadata": {},
   "source": [
    "##### Выводы"
   ]
  },
  {
   "cell_type": "markdown",
   "metadata": {},
   "source": [
    "- В 246 группе 2484 пользователя\n",
    "- В 247 группе 2513 пользователя\n",
    "- В 248 группе 2537 пользователей"
   ]
  },
  {
   "cell_type": "markdown",
   "metadata": {},
   "source": [
    "####  5.2. Есть 2 контрольные группы для А/А-эксперимента, чтобы проверить корректность всех механизмов и расчётов. Проверьте, находят ли статистические критерии разницу между выборками 246 и 247. "
   ]
  },
  {
   "cell_type": "code",
   "execution_count": 30,
   "metadata": {},
   "outputs": [
    {
     "data": {
      "text/html": [
       "<div>\n",
       "<style scoped>\n",
       "    .dataframe tbody tr th:only-of-type {\n",
       "        vertical-align: middle;\n",
       "    }\n",
       "\n",
       "    .dataframe tbody tr th {\n",
       "        vertical-align: top;\n",
       "    }\n",
       "\n",
       "    .dataframe thead th {\n",
       "        text-align: right;\n",
       "    }\n",
       "</style>\n",
       "<table border=\"1\" class=\"dataframe\">\n",
       "  <thead>\n",
       "    <tr style=\"text-align: right;\">\n",
       "      <th></th>\n",
       "      <th>exp_id</th>\n",
       "      <th>device_id_hash</th>\n",
       "      <th>event_name</th>\n",
       "      <th>numb</th>\n",
       "    </tr>\n",
       "  </thead>\n",
       "  <tbody>\n",
       "    <tr>\n",
       "      <th>0</th>\n",
       "      <td>246</td>\n",
       "      <td>6888746892508752</td>\n",
       "      <td>MainScreenAppear</td>\n",
       "      <td>1</td>\n",
       "    </tr>\n",
       "    <tr>\n",
       "      <th>6737</th>\n",
       "      <td>247</td>\n",
       "      <td>6909561520679493</td>\n",
       "      <td>MainScreenAppear</td>\n",
       "      <td>2</td>\n",
       "    </tr>\n",
       "    <tr>\n",
       "      <th>6738</th>\n",
       "      <td>247</td>\n",
       "      <td>6909561520679493</td>\n",
       "      <td>OffersScreenAppear</td>\n",
       "      <td>1</td>\n",
       "    </tr>\n",
       "    <tr>\n",
       "      <th>6739</th>\n",
       "      <td>247</td>\n",
       "      <td>6909561520679493</td>\n",
       "      <td>PaymentScreenSuccessful</td>\n",
       "      <td>1</td>\n",
       "    </tr>\n",
       "    <tr>\n",
       "      <th>6736</th>\n",
       "      <td>247</td>\n",
       "      <td>6909561520679493</td>\n",
       "      <td>CartScreenAppear</td>\n",
       "      <td>1</td>\n",
       "    </tr>\n",
       "    <tr>\n",
       "      <th>1</th>\n",
       "      <td>246</td>\n",
       "      <td>6922444491712477</td>\n",
       "      <td>CartScreenAppear</td>\n",
       "      <td>8</td>\n",
       "    </tr>\n",
       "    <tr>\n",
       "      <th>2</th>\n",
       "      <td>246</td>\n",
       "      <td>6922444491712477</td>\n",
       "      <td>MainScreenAppear</td>\n",
       "      <td>19</td>\n",
       "    </tr>\n",
       "    <tr>\n",
       "      <th>3</th>\n",
       "      <td>246</td>\n",
       "      <td>6922444491712477</td>\n",
       "      <td>OffersScreenAppear</td>\n",
       "      <td>12</td>\n",
       "    </tr>\n",
       "    <tr>\n",
       "      <th>4</th>\n",
       "      <td>246</td>\n",
       "      <td>6922444491712477</td>\n",
       "      <td>PaymentScreenSuccessful</td>\n",
       "      <td>8</td>\n",
       "    </tr>\n",
       "    <tr>\n",
       "      <th>13411</th>\n",
       "      <td>248</td>\n",
       "      <td>7435777799948366</td>\n",
       "      <td>MainScreenAppear</td>\n",
       "      <td>6</td>\n",
       "    </tr>\n",
       "  </tbody>\n",
       "</table>\n",
       "</div>"
      ],
      "text/plain": [
       "       exp_id    device_id_hash               event_name  numb\n",
       "0         246  6888746892508752         MainScreenAppear     1\n",
       "6737      247  6909561520679493         MainScreenAppear     2\n",
       "6738      247  6909561520679493       OffersScreenAppear     1\n",
       "6739      247  6909561520679493  PaymentScreenSuccessful     1\n",
       "6736      247  6909561520679493         CartScreenAppear     1\n",
       "1         246  6922444491712477         CartScreenAppear     8\n",
       "2         246  6922444491712477         MainScreenAppear    19\n",
       "3         246  6922444491712477       OffersScreenAppear    12\n",
       "4         246  6922444491712477  PaymentScreenSuccessful     8\n",
       "13411     248  7435777799948366         MainScreenAppear     6"
      ]
     },
     "execution_count": 30,
     "metadata": {},
     "output_type": "execute_result"
    }
   ],
   "source": [
    "# Посещенные страницы для каждого пользователя \n",
    "a_a_screen = data_clear.groupby(['exp_id', 'device_id_hash', 'event_name'])[['event_name']].count()\n",
    "a_a_screen.columns = ['numb']\n",
    "a_a_screen = a_a_screen.reset_index().sort_values(by = 'device_id_hash')\n",
    "a_a_screen.head(10)"
   ]
  },
  {
   "cell_type": "code",
   "execution_count": 31,
   "metadata": {},
   "outputs": [],
   "source": [
    "# A-A на примере страницы MainScreenAppear\n",
    "a_a_main_246 = a_a_screen.query('event_name == \"MainScreenAppear\"').query('exp_id == 246')\n",
    "a_a_main_247 = a_a_screen.query('event_name == \"MainScreenAppear\"').query('exp_id == 247')"
   ]
  },
  {
   "cell_type": "markdown",
   "metadata": {},
   "source": [
    "Гипотезы:\n",
    "- H0: Доли групп одинаковые \n",
    "- H1: Доли групп разные"
   ]
  },
  {
   "cell_type": "code",
   "execution_count": 32,
   "metadata": {},
   "outputs": [
    {
     "name": "stdout",
     "output_type": "stream",
     "text": [
      "p-value 0.34\n",
      "Не получилось отвергнуть нулевую гипотезу, нет оснований считать доли разными\n"
     ]
    }
   ],
   "source": [
    "users = np.array([len(a_a_main_246), len(a_a_main_247)])\n",
    "numbs = np.array([a_a_main_246['numb'].sum(), a_a_main_247['numb'].sum()])\n",
    "stat, pval = proportions_ztest(users, numbs)\n",
    "print('p-value {0:0.2f}'.format(pval))\n",
    "if pval<0.05:\n",
    "    print('Отвергаем нулевую гипотезу: между долями есть значимая разница')\n",
    "else:\n",
    "    print(\n",
    "        'Не получилось отвергнуть нулевую гипотезу, нет оснований считать доли разными'\n",
    "    ) "
   ]
  },
  {
   "cell_type": "markdown",
   "metadata": {},
   "source": [
    "##### Выводы"
   ]
  },
  {
   "cell_type": "markdown",
   "metadata": {},
   "source": [
    "A/A тестом проводилась проверка находят ли статистические критерии разницу между выборками 246 и 247. Для теста были взяты данные по самой посещаемой странице `MainScreenAppear`. Для проверки гипотезы используется Z-тест. Тест не нашел разницы между выборками, p-value больше критической значимости(0.05) и равно 0.34."
   ]
  },
  {
   "cell_type": "markdown",
   "metadata": {},
   "source": [
    "####  5.3. Выберите самое популярное событие. Посчитайте число пользователей, совершивших это событие в каждой из контрольных групп. Посчитайте долю пользователей, совершивших это событие. Проверьте, будет ли отличие между группами статистически достоверным. Проделайте то же самое для всех других событий (удобно обернуть проверку в отдельную функцию). Можно ли сказать, что разбиение на группы работает корректно?"
   ]
  },
  {
   "cell_type": "code",
   "execution_count": 33,
   "metadata": {},
   "outputs": [
    {
     "data": {
      "text/plain": [
       "7534"
      ]
     },
     "execution_count": 33,
     "metadata": {},
     "output_type": "execute_result"
    }
   ],
   "source": [
    "# Кол-во пользователей\n",
    "total_device_id = a_a_screen['device_id_hash'].nunique()\n",
    "total_device_id"
   ]
  },
  {
   "cell_type": "code",
   "execution_count": 34,
   "metadata": {},
   "outputs": [
    {
     "name": "stdout",
     "output_type": "stream",
     "text": [
      "Доля пользователей, посетивших страницу в 246 группе 0.325\n",
      "Доля пользователей, посетивших страницу в 247 группе 0.329\n"
     ]
    }
   ],
   "source": [
    "print('Доля пользователей, посетивших страницу в 246 группе', \n",
    "      round((a_a_main_246['device_id_hash'].count() / total_device_id),3))\n",
    "print('Доля пользователей, посетивших страницу в 247 группе', \n",
    "      round((a_a_main_247['device_id_hash'].count() / total_device_id),3))"
   ]
  },
  {
   "cell_type": "code",
   "execution_count": 35,
   "metadata": {},
   "outputs": [],
   "source": [
    "event = ['OffersScreenAppear', 'CartScreenAppear', 'PaymentScreenSuccessful']\n",
    "\n",
    "# Функция проверки стат. значимости и доли\n",
    "def z_test(screen, group1, group2, group_data):\n",
    "    print()\n",
    "    print('Страница ', screen)\n",
    "    a_a_1 = group_data.query('event_name == @screen').query('exp_id == @group1')\n",
    "    a_a_2 = group_data.query('event_name == @screen').query('exp_id == @group2')\n",
    "    ztest ,pval = stestsztest.ztest(a_a_1['numb'], a_a_2['numb'], value=0,alternative='two-sided')\n",
    "    print('p-value ', round(pval, 2))\n",
    "    \n",
    "    alpha = 0.05 # уровень значимости\n",
    "    if pval < alpha:\n",
    "        print('Отвергаем нулевую гипотезу: между долями есть значимая разница')\n",
    "    else:\n",
    "        print('Не получилось отвергнуть нулевую гипотезу, нет оснований считать доли разными') \n",
    "    print('Доля пользователей, посетивших страницу в ', group1, 'группе', \n",
    "      round((a_a_1['device_id_hash'].count() / total_device_id),3))\n",
    "    print('Доля пользователей, посетивших страницу в ', group2, 'группе', \n",
    "      round((a_a_2['device_id_hash'].count() / total_device_id),3))\n",
    "    print()"
   ]
  },
  {
   "cell_type": "markdown",
   "metadata": {},
   "source": [
    "Гипотезы:\n",
    "- H0: Доли групп одинаковые \n",
    "- H1: Доли групп разные"
   ]
  },
  {
   "cell_type": "code",
   "execution_count": 36,
   "metadata": {},
   "outputs": [
    {
     "name": "stdout",
     "output_type": "stream",
     "text": [
      "\n",
      "Страница  OffersScreenAppear\n",
      "p-value  0.41\n",
      "Не получилось отвергнуть нулевую гипотезу, нет оснований считать доли разными\n",
      "Доля пользователей, посетивших страницу в  246 группе 0.205\n",
      "Доля пользователей, посетивших страницу в  247 группе 0.202\n",
      "\n",
      "\n",
      "Страница  CartScreenAppear\n",
      "p-value  0.27\n",
      "Не получилось отвергнуть нулевую гипотезу, нет оснований считать доли разными\n",
      "Доля пользователей, посетивших страницу в  246 группе 0.168\n",
      "Доля пользователей, посетивших страницу в  247 группе 0.164\n",
      "\n",
      "\n",
      "Страница  PaymentScreenSuccessful\n",
      "p-value  0.38\n",
      "Не получилось отвергнуть нулевую гипотезу, нет оснований считать доли разными\n",
      "Доля пользователей, посетивших страницу в  246 группе 0.159\n",
      "Доля пользователей, посетивших страницу в  247 группе 0.154\n",
      "\n"
     ]
    }
   ],
   "source": [
    "def event_group(group1, group2, group_data):\n",
    "    for s in event:\n",
    "        z_test(s, group1, group2, group_data)\n",
    "event_group(246, 247, a_a_screen)"
   ]
  },
  {
   "cell_type": "markdown",
   "metadata": {},
   "source": [
    "##### Выводы"
   ]
  },
  {
   "cell_type": "markdown",
   "metadata": {},
   "source": [
    "Самым популярным событием является посещение страницы `MainScreenAppear`, статистическая значимость для этой страницы посчитана в пункте 5.2. Доля пользователей, посетивших страницу в 246 группе 0.325, в 247 группе 0.329.\n",
    "Для всех остальных событий z-тест подтвердил нулевую гепотизу о ранстве долей 246 и 247 группы.\n",
    "Доли пользователей по группам и страницам выглядит следующим образом:\n",
    "- на странице OffersScreenAppear доля 246 группы 0.205, 247 группы 0.202\n",
    "- на странице CartScreenAppear доля 246 группы 0.168, 247 группы 0.164\n",
    "- на странице PaymentScreenSuccessful  доля 246 группы 0.159, 247 группы 0.154"
   ]
  },
  {
   "cell_type": "markdown",
   "metadata": {},
   "source": [
    "####  5.4. Аналогично поступите с группой с изменённым шрифтом. Сравните результаты с каждой из контрольных групп в отдельности по каждому событию. Сравните результаты с объединённой контрольной группой. Какие выводы из эксперимента можно сделать?"
   ]
  },
  {
   "cell_type": "code",
   "execution_count": 37,
   "metadata": {},
   "outputs": [],
   "source": [
    "event = ['MainScreenAppear', 'OffersScreenAppear', 'CartScreenAppear', 'PaymentScreenSuccessful']"
   ]
  },
  {
   "cell_type": "code",
   "execution_count": 38,
   "metadata": {},
   "outputs": [
    {
     "name": "stdout",
     "output_type": "stream",
     "text": [
      "\n",
      "Страница  MainScreenAppear\n",
      "p-value  0.05\n",
      "Отвергаем нулевую гипотезу: между долями есть значимая разница\n",
      "Доля пользователей, посетивших страницу в  246 группе 0.325\n",
      "Доля пользователей, посетивших страницу в  248 группе 0.331\n",
      "\n",
      "\n",
      "Страница  OffersScreenAppear\n",
      "p-value  0.05\n",
      "Не получилось отвергнуть нулевую гипотезу, нет оснований считать доли разными\n",
      "Доля пользователей, посетивших страницу в  246 группе 0.205\n",
      "Доля пользователей, посетивших страницу в  248 группе 0.203\n",
      "\n",
      "\n",
      "Страница  CartScreenAppear\n",
      "p-value  0.65\n",
      "Не получилось отвергнуть нулевую гипотезу, нет оснований считать доли разными\n",
      "Доля пользователей, посетивших страницу в  246 группе 0.168\n",
      "Доля пользователей, посетивших страницу в  248 группе 0.163\n",
      "\n",
      "\n",
      "Страница  PaymentScreenSuccessful\n",
      "p-value  0.82\n",
      "Не получилось отвергнуть нулевую гипотезу, нет оснований считать доли разными\n",
      "Доля пользователей, посетивших страницу в  246 группе 0.159\n",
      "Доля пользователей, посетивших страницу в  248 группе 0.157\n",
      "\n"
     ]
    }
   ],
   "source": [
    "event_group(246, 248, a_a_screen)"
   ]
  },
  {
   "cell_type": "code",
   "execution_count": 39,
   "metadata": {},
   "outputs": [
    {
     "name": "stdout",
     "output_type": "stream",
     "text": [
      "\n",
      "Страница  MainScreenAppear\n",
      "p-value  0.3\n",
      "Не получилось отвергнуть нулевую гипотезу, нет оснований считать доли разными\n",
      "Доля пользователей, посетивших страницу в  247 группе 0.329\n",
      "Доля пользователей, посетивших страницу в  248 группе 0.331\n",
      "\n",
      "\n",
      "Страница  OffersScreenAppear\n",
      "p-value  0.26\n",
      "Не получилось отвергнуть нулевую гипотезу, нет оснований считать доли разными\n",
      "Доля пользователей, посетивших страницу в  247 группе 0.202\n",
      "Доля пользователей, посетивших страницу в  248 группе 0.203\n",
      "\n",
      "\n",
      "Страница  CartScreenAppear\n",
      "p-value  0.13\n",
      "Не получилось отвергнуть нулевую гипотезу, нет оснований считать доли разными\n",
      "Доля пользователей, посетивших страницу в  247 группе 0.164\n",
      "Доля пользователей, посетивших страницу в  248 группе 0.163\n",
      "\n",
      "\n",
      "Страница  PaymentScreenSuccessful\n",
      "p-value  0.29\n",
      "Не получилось отвергнуть нулевую гипотезу, нет оснований считать доли разными\n",
      "Доля пользователей, посетивших страницу в  247 группе 0.154\n",
      "Доля пользователей, посетивших страницу в  248 группе 0.157\n",
      "\n"
     ]
    }
   ],
   "source": [
    "event_group(247, 248, a_a_screen)"
   ]
  },
  {
   "cell_type": "code",
   "execution_count": 40,
   "metadata": {},
   "outputs": [
    {
     "data": {
      "text/html": [
       "<div>\n",
       "<style scoped>\n",
       "    .dataframe tbody tr th:only-of-type {\n",
       "        vertical-align: middle;\n",
       "    }\n",
       "\n",
       "    .dataframe tbody tr th {\n",
       "        vertical-align: top;\n",
       "    }\n",
       "\n",
       "    .dataframe thead th {\n",
       "        text-align: right;\n",
       "    }\n",
       "</style>\n",
       "<table border=\"1\" class=\"dataframe\">\n",
       "  <thead>\n",
       "    <tr style=\"text-align: right;\">\n",
       "      <th></th>\n",
       "      <th>exp_id</th>\n",
       "      <th>device_id_hash</th>\n",
       "      <th>event_name</th>\n",
       "      <th>numb</th>\n",
       "    </tr>\n",
       "  </thead>\n",
       "  <tbody>\n",
       "    <tr>\n",
       "      <th>0</th>\n",
       "      <td>246-247</td>\n",
       "      <td>6888746892508752</td>\n",
       "      <td>MainScreenAppear</td>\n",
       "      <td>1</td>\n",
       "    </tr>\n",
       "    <tr>\n",
       "      <th>6737</th>\n",
       "      <td>246-247</td>\n",
       "      <td>6909561520679493</td>\n",
       "      <td>MainScreenAppear</td>\n",
       "      <td>2</td>\n",
       "    </tr>\n",
       "    <tr>\n",
       "      <th>6738</th>\n",
       "      <td>246-247</td>\n",
       "      <td>6909561520679493</td>\n",
       "      <td>OffersScreenAppear</td>\n",
       "      <td>1</td>\n",
       "    </tr>\n",
       "    <tr>\n",
       "      <th>6739</th>\n",
       "      <td>246-247</td>\n",
       "      <td>6909561520679493</td>\n",
       "      <td>PaymentScreenSuccessful</td>\n",
       "      <td>1</td>\n",
       "    </tr>\n",
       "    <tr>\n",
       "      <th>6736</th>\n",
       "      <td>246-247</td>\n",
       "      <td>6909561520679493</td>\n",
       "      <td>CartScreenAppear</td>\n",
       "      <td>1</td>\n",
       "    </tr>\n",
       "    <tr>\n",
       "      <th>...</th>\n",
       "      <td>...</td>\n",
       "      <td>...</td>\n",
       "      <td>...</td>\n",
       "      <td>...</td>\n",
       "    </tr>\n",
       "    <tr>\n",
       "      <th>6734</th>\n",
       "      <td>246-247</td>\n",
       "      <td>9220879493065341500</td>\n",
       "      <td>OffersScreenAppear</td>\n",
       "      <td>1</td>\n",
       "    </tr>\n",
       "    <tr>\n",
       "      <th>6732</th>\n",
       "      <td>246-247</td>\n",
       "      <td>9220879493065341500</td>\n",
       "      <td>CartScreenAppear</td>\n",
       "      <td>1</td>\n",
       "    </tr>\n",
       "    <tr>\n",
       "      <th>6733</th>\n",
       "      <td>246-247</td>\n",
       "      <td>9220879493065341500</td>\n",
       "      <td>MainScreenAppear</td>\n",
       "      <td>4</td>\n",
       "    </tr>\n",
       "    <tr>\n",
       "      <th>6735</th>\n",
       "      <td>246-247</td>\n",
       "      <td>9221926045299980007</td>\n",
       "      <td>MainScreenAppear</td>\n",
       "      <td>7</td>\n",
       "    </tr>\n",
       "    <tr>\n",
       "      <th>20124</th>\n",
       "      <td>248</td>\n",
       "      <td>9222603179720523844</td>\n",
       "      <td>MainScreenAppear</td>\n",
       "      <td>59</td>\n",
       "    </tr>\n",
       "  </tbody>\n",
       "</table>\n",
       "<p>20125 rows × 4 columns</p>\n",
       "</div>"
      ],
      "text/plain": [
       "        exp_id       device_id_hash               event_name  numb\n",
       "0      246-247     6888746892508752         MainScreenAppear     1\n",
       "6737   246-247     6909561520679493         MainScreenAppear     2\n",
       "6738   246-247     6909561520679493       OffersScreenAppear     1\n",
       "6739   246-247     6909561520679493  PaymentScreenSuccessful     1\n",
       "6736   246-247     6909561520679493         CartScreenAppear     1\n",
       "...        ...                  ...                      ...   ...\n",
       "6734   246-247  9220879493065341500       OffersScreenAppear     1\n",
       "6732   246-247  9220879493065341500         CartScreenAppear     1\n",
       "6733   246-247  9220879493065341500         MainScreenAppear     4\n",
       "6735   246-247  9221926045299980007         MainScreenAppear     7\n",
       "20124      248  9222603179720523844         MainScreenAppear    59\n",
       "\n",
       "[20125 rows x 4 columns]"
      ]
     },
     "execution_count": 40,
     "metadata": {},
     "output_type": "execute_result"
    }
   ],
   "source": [
    "a_a_screen_union = a_a_screen\n",
    "a_a_screen_union['exp_id'] = a_a_screen_union['exp_id'].astype('str')\n",
    "a_a_screen_union = a_a_screen_union.replace('246', '246-247').replace('247', '246-247')\n",
    "a_a_screen_union"
   ]
  },
  {
   "cell_type": "code",
   "execution_count": 41,
   "metadata": {},
   "outputs": [
    {
     "name": "stdout",
     "output_type": "stream",
     "text": [
      "\n",
      "Страница  MainScreenAppear\n",
      "p-value  0.08\n",
      "Не получилось отвергнуть нулевую гипотезу, нет оснований считать доли разными\n",
      "Доля пользователей, посетивших страницу в  246-247 группе 0.654\n",
      "Доля пользователей, посетивших страницу в  248 группе 0.331\n",
      "\n",
      "\n",
      "Страница  OffersScreenAppear\n",
      "p-value  0.06\n",
      "Не получилось отвергнуть нулевую гипотезу, нет оснований считать доли разными\n",
      "Доля пользователей, посетивших страницу в  246-247 группе 0.406\n",
      "Доля пользователей, посетивших страницу в  248 группе 0.203\n",
      "\n",
      "\n",
      "Страница  CartScreenAppear\n",
      "p-value  0.26\n",
      "Не получилось отвергнуть нулевую гипотезу, нет оснований считать доли разными\n",
      "Доля пользователей, посетивших страницу в  246-247 группе 0.332\n",
      "Доля пользователей, посетивших страницу в  248 группе 0.163\n",
      "\n",
      "\n",
      "Страница  PaymentScreenSuccessful\n",
      "p-value  0.45\n",
      "Не получилось отвергнуть нулевую гипотезу, нет оснований считать доли разными\n",
      "Доля пользователей, посетивших страницу в  246-247 группе 0.313\n",
      "Доля пользователей, посетивших страницу в  248 группе 0.157\n",
      "\n"
     ]
    }
   ],
   "source": [
    "event_group('246-247', '248', a_a_screen_union)"
   ]
  },
  {
   "cell_type": "markdown",
   "metadata": {},
   "source": [
    "##### Выводы"
   ]
  },
  {
   "cell_type": "markdown",
   "metadata": {},
   "source": [
    "При сравнении  отдельных и объединенных контрольных групп с экспериментальной оказалось,  что разница в выборках есть при сравнении контрольной 246 группы с экспериментальной 248. Разница присутствует только в посещениях страницы `MainScreenAppear`, на посещение остальных страниц в частности страницы оплаты `PaymentScreenSuccessful` изменения не влияют."
   ]
  },
  {
   "cell_type": "markdown",
   "metadata": {},
   "source": [
    "####  5.5. Какой уровень значимости вы выбрали при проверке статистических гипотез выше? Посчитайте, сколько проверок статистических гипотез вы сделали. При уровне значимости 0.1 каждый десятый раз можно получать ложный результат. Какой уровень значимости стоит применить? Если вы хотите изменить его, проделайте предыдущие пункты и проверьте свои выводы."
   ]
  },
  {
   "cell_type": "markdown",
   "metadata": {},
   "source": [
    "##### Выводы"
   ]
  },
  {
   "cell_type": "markdown",
   "metadata": {},
   "source": [
    "Для проверки значимости было принято значение 0.05. Всего произведено 15 тест на выявление статистической значимости между выборками."
   ]
  },
  {
   "cell_type": "code",
   "execution_count": null,
   "metadata": {},
   "outputs": [],
   "source": []
  }
 ],
 "metadata": {
  "ExecuteTimeLog": [
   {
    "duration": 1596,
    "start_time": "2021-07-13T14:28:56.642Z"
   },
   {
    "duration": 319,
    "start_time": "2021-07-13T14:29:07.650Z"
   },
   {
    "duration": 16,
    "start_time": "2021-07-13T14:29:17.899Z"
   },
   {
    "duration": 1404,
    "start_time": "2022-09-19T12:50:41.869Z"
   },
   {
    "duration": 492,
    "start_time": "2022-09-19T12:50:43.276Z"
   },
   {
    "duration": 30,
    "start_time": "2022-09-19T12:50:43.770Z"
   },
   {
    "duration": 5,
    "start_time": "2022-09-19T12:50:43.801Z"
   },
   {
    "duration": 145,
    "start_time": "2022-09-19T12:50:43.809Z"
   },
   {
    "duration": 79,
    "start_time": "2022-09-19T12:50:43.956Z"
   },
   {
    "duration": 98,
    "start_time": "2022-09-19T12:50:44.037Z"
   },
   {
    "duration": 38,
    "start_time": "2022-09-19T12:50:44.137Z"
   },
   {
    "duration": 188,
    "start_time": "2022-09-19T12:50:44.177Z"
   },
   {
    "duration": 19,
    "start_time": "2022-09-19T12:50:44.366Z"
   },
   {
    "duration": 6,
    "start_time": "2022-09-19T12:50:44.387Z"
   },
   {
    "duration": 30,
    "start_time": "2022-09-19T12:50:44.395Z"
   },
   {
    "duration": 52,
    "start_time": "2022-09-19T12:50:44.426Z"
   },
   {
    "duration": 288,
    "start_time": "2022-09-19T12:50:44.480Z"
   },
   {
    "duration": 85,
    "start_time": "2022-09-19T12:50:44.770Z"
   },
   {
    "duration": 1245,
    "start_time": "2022-09-19T12:50:44.856Z"
   },
   {
    "duration": 7,
    "start_time": "2022-09-19T12:50:46.103Z"
   },
   {
    "duration": 69,
    "start_time": "2022-09-19T12:50:46.112Z"
   },
   {
    "duration": 21,
    "start_time": "2022-09-19T12:50:46.183Z"
   },
   {
    "duration": 80,
    "start_time": "2022-09-19T12:50:46.206Z"
   },
   {
    "duration": 73,
    "start_time": "2022-09-19T12:50:46.288Z"
   },
   {
    "duration": 7,
    "start_time": "2022-09-19T12:50:46.363Z"
   },
   {
    "duration": 1653,
    "start_time": "2022-09-19T12:50:46.372Z"
   },
   {
    "duration": 27,
    "start_time": "2022-09-19T12:50:48.027Z"
   },
   {
    "duration": 6,
    "start_time": "2022-09-19T12:50:48.056Z"
   },
   {
    "duration": 12,
    "start_time": "2022-09-19T12:50:48.064Z"
   },
   {
    "duration": 9,
    "start_time": "2022-09-19T12:50:48.078Z"
   },
   {
    "duration": 97,
    "start_time": "2022-09-19T12:50:48.089Z"
   },
   {
    "duration": 32,
    "start_time": "2022-09-19T12:50:48.188Z"
   },
   {
    "duration": 76,
    "start_time": "2022-09-19T12:50:48.222Z"
   },
   {
    "duration": 11,
    "start_time": "2022-09-19T12:50:48.300Z"
   },
   {
    "duration": 13,
    "start_time": "2022-09-19T12:50:48.313Z"
   },
   {
    "duration": 14,
    "start_time": "2022-09-19T12:50:48.328Z"
   },
   {
    "duration": 13,
    "start_time": "2022-09-19T12:50:48.344Z"
   },
   {
    "duration": 15,
    "start_time": "2022-09-19T12:50:48.358Z"
   },
   {
    "duration": 42,
    "start_time": "2022-09-19T12:50:48.375Z"
   },
   {
    "duration": 3,
    "start_time": "2022-09-19T12:50:48.420Z"
   },
   {
    "duration": 59,
    "start_time": "2022-09-19T12:50:48.424Z"
   },
   {
    "duration": 39,
    "start_time": "2022-09-19T12:50:48.485Z"
   },
   {
    "duration": 44,
    "start_time": "2022-09-19T12:50:48.526Z"
   },
   {
    "duration": 56,
    "start_time": "2022-09-19T12:50:48.574Z"
   }
  ],
  "kernelspec": {
   "display_name": "Python 3",
   "language": "python",
   "name": "python3"
  },
  "language_info": {
   "codemirror_mode": {
    "name": "ipython",
    "version": 3
   },
   "file_extension": ".py",
   "mimetype": "text/x-python",
   "name": "python",
   "nbconvert_exporter": "python",
   "pygments_lexer": "ipython3",
   "version": "3.8.5"
  },
  "toc": {
   "base_numbering": 1,
   "nav_menu": {},
   "number_sections": false,
   "sideBar": true,
   "skip_h1_title": true,
   "title_cell": "Table of Contents",
   "title_sidebar": "Contents",
   "toc_cell": false,
   "toc_position": {
    "height": "calc(100% - 180px)",
    "left": "10px",
    "top": "150px",
    "width": "431.449px"
   },
   "toc_section_display": true,
   "toc_window_display": true
  }
 },
 "nbformat": 4,
 "nbformat_minor": 2
}
